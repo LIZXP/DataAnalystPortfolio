{
 "cells": [
  {
   "cell_type": "code",
   "execution_count": 3,
   "id": "666ccbe0",
   "metadata": {},
   "outputs": [],
   "source": [
    "library(tidyverse)"
   ]
  },
  {
   "cell_type": "code",
   "execution_count": 4,
   "id": "91c3b1d3",
   "metadata": {},
   "outputs": [],
   "source": [
    "library(ggcorrplot)"
   ]
  },
  {
   "cell_type": "code",
   "execution_count": 5,
   "id": "266d3677",
   "metadata": {},
   "outputs": [],
   "source": [
    "#Import Data\n",
    "\n",
    "westca<-read.csv(file.choose())"
   ]
  },
  {
   "cell_type": "code",
   "execution_count": 6,
   "id": "5d7802ea",
   "metadata": {},
   "outputs": [
    {
     "data": {
      "text/html": [
       "<table>\n",
       "<thead><tr><th scope=col>Date</th><th scope=col>Geo</th><th scope=col>newcases</th><th scope=col>totalcases</th><th scope=col>newdeaths</th><th scope=col>totaldeaths</th><th scope=col>Recovered</th><th scope=col>Hospitalizations</th><th scope=col>ICU</th><th scope=col>Tested</th><th scope=col>...</th><th scope=col>Vaccinated</th><th scope=col>Vaccinated.2</th><th scope=col>Vac.Distributed</th><th scope=col>Total.variants</th><th scope=col>Variant.B.1.1.7</th><th scope=col>Variant.B.1.351</th><th scope=col>Variant.P.1</th><th scope=col>Variant.Nigeria</th><th scope=col>Variant.unknown</th><th scope=col>Variant.B.1.617</th></tr></thead>\n",
       "<tbody>\n",
       "\t<tr><td>3/8/2020 </td><td>ALBERTA  </td><td>1        </td><td> 1       </td><td>0        </td><td>0        </td><td>0        </td><td>0        </td><td>0        </td><td> 828     </td><td>...      </td><td>0        </td><td>0        </td><td>0        </td><td>NA       </td><td>NA       </td><td>NA       </td><td>NA       </td><td>NA       </td><td>NA       </td><td>NA       </td></tr>\n",
       "\t<tr><td>3/9/2020 </td><td>ALBERTA  </td><td>6        </td><td> 7       </td><td>0        </td><td>0        </td><td>0        </td><td>0        </td><td>0        </td><td>1282     </td><td>...      </td><td>0        </td><td>0        </td><td>0        </td><td>NA       </td><td>NA       </td><td>NA       </td><td>NA       </td><td>NA       </td><td>NA       </td><td>NA       </td></tr>\n",
       "\t<tr><td>3/11/2020</td><td>ALBERTA  </td><td>7        </td><td>14       </td><td>0        </td><td>0        </td><td>0        </td><td>0        </td><td>0        </td><td>2714     </td><td>...      </td><td>0        </td><td>0        </td><td>0        </td><td>NA       </td><td>NA       </td><td>NA       </td><td>NA       </td><td>NA       </td><td>NA       </td><td>NA       </td></tr>\n",
       "\t<tr><td>3/12/2020</td><td>ALBERTA  </td><td>5        </td><td>19       </td><td>0        </td><td>0        </td><td>0        </td><td>0        </td><td>0        </td><td>4048     </td><td>...      </td><td>0        </td><td>0        </td><td>0        </td><td>NA       </td><td>NA       </td><td>NA       </td><td>NA       </td><td>NA       </td><td>NA       </td><td>NA       </td></tr>\n",
       "\t<tr><td>3/13/2020</td><td>ALBERTA  </td><td>4        </td><td>23       </td><td>0        </td><td>0        </td><td>0        </td><td>7        </td><td>2        </td><td>5195     </td><td>...      </td><td>0        </td><td>0        </td><td>0        </td><td>NA       </td><td>NA       </td><td>NA       </td><td>NA       </td><td>NA       </td><td>NA       </td><td>NA       </td></tr>\n",
       "\t<tr><td>3/14/2020</td><td>ALBERTA  </td><td>6        </td><td>29       </td><td>0        </td><td>0        </td><td>0        </td><td>7        </td><td>2        </td><td>6782     </td><td>...      </td><td>0        </td><td>0        </td><td>0        </td><td>NA       </td><td>NA       </td><td>NA       </td><td>NA       </td><td>NA       </td><td>NA       </td><td>NA       </td></tr>\n",
       "</tbody>\n",
       "</table>\n"
      ],
      "text/latex": [
       "\\begin{tabular}{r|lllllllllllllllllllll}\n",
       " Date & Geo & newcases & totalcases & newdeaths & totaldeaths & Recovered & Hospitalizations & ICU & Tested & ... & Vaccinated & Vaccinated.2 & Vac.Distributed & Total.variants & Variant.B.1.1.7 & Variant.B.1.351 & Variant.P.1 & Variant.Nigeria & Variant.unknown & Variant.B.1.617\\\\\n",
       "\\hline\n",
       "\t 3/8/2020  & ALBERTA   & 1         &  1        & 0         & 0         & 0         & 0         & 0         &  828      & ...       & 0         & 0         & 0         & NA        & NA        & NA        & NA        & NA        & NA        & NA       \\\\\n",
       "\t 3/9/2020  & ALBERTA   & 6         &  7        & 0         & 0         & 0         & 0         & 0         & 1282      & ...       & 0         & 0         & 0         & NA        & NA        & NA        & NA        & NA        & NA        & NA       \\\\\n",
       "\t 3/11/2020 & ALBERTA   & 7         & 14        & 0         & 0         & 0         & 0         & 0         & 2714      & ...       & 0         & 0         & 0         & NA        & NA        & NA        & NA        & NA        & NA        & NA       \\\\\n",
       "\t 3/12/2020 & ALBERTA   & 5         & 19        & 0         & 0         & 0         & 0         & 0         & 4048      & ...       & 0         & 0         & 0         & NA        & NA        & NA        & NA        & NA        & NA        & NA       \\\\\n",
       "\t 3/13/2020 & ALBERTA   & 4         & 23        & 0         & 0         & 0         & 7         & 2         & 5195      & ...       & 0         & 0         & 0         & NA        & NA        & NA        & NA        & NA        & NA        & NA       \\\\\n",
       "\t 3/14/2020 & ALBERTA   & 6         & 29        & 0         & 0         & 0         & 7         & 2         & 6782      & ...       & 0         & 0         & 0         & NA        & NA        & NA        & NA        & NA        & NA        & NA       \\\\\n",
       "\\end{tabular}\n"
      ],
      "text/markdown": [
       "\n",
       "| Date | Geo | newcases | totalcases | newdeaths | totaldeaths | Recovered | Hospitalizations | ICU | Tested | ... | Vaccinated | Vaccinated.2 | Vac.Distributed | Total.variants | Variant.B.1.1.7 | Variant.B.1.351 | Variant.P.1 | Variant.Nigeria | Variant.unknown | Variant.B.1.617 |\n",
       "|---|---|---|---|---|---|---|---|---|---|---|---|---|---|---|---|---|---|---|---|---|\n",
       "| 3/8/2020  | ALBERTA   | 1         |  1        | 0         | 0         | 0         | 0         | 0         |  828      | ...       | 0         | 0         | 0         | NA        | NA        | NA        | NA        | NA        | NA        | NA        |\n",
       "| 3/9/2020  | ALBERTA   | 6         |  7        | 0         | 0         | 0         | 0         | 0         | 1282      | ...       | 0         | 0         | 0         | NA        | NA        | NA        | NA        | NA        | NA        | NA        |\n",
       "| 3/11/2020 | ALBERTA   | 7         | 14        | 0         | 0         | 0         | 0         | 0         | 2714      | ...       | 0         | 0         | 0         | NA        | NA        | NA        | NA        | NA        | NA        | NA        |\n",
       "| 3/12/2020 | ALBERTA   | 5         | 19        | 0         | 0         | 0         | 0         | 0         | 4048      | ...       | 0         | 0         | 0         | NA        | NA        | NA        | NA        | NA        | NA        | NA        |\n",
       "| 3/13/2020 | ALBERTA   | 4         | 23        | 0         | 0         | 0         | 7         | 2         | 5195      | ...       | 0         | 0         | 0         | NA        | NA        | NA        | NA        | NA        | NA        | NA        |\n",
       "| 3/14/2020 | ALBERTA   | 6         | 29        | 0         | 0         | 0         | 7         | 2         | 6782      | ...       | 0         | 0         | 0         | NA        | NA        | NA        | NA        | NA        | NA        | NA        |\n",
       "\n"
      ],
      "text/plain": [
       "  Date      Geo     newcases totalcases newdeaths totaldeaths Recovered\n",
       "1 3/8/2020  ALBERTA 1         1         0         0           0        \n",
       "2 3/9/2020  ALBERTA 6         7         0         0           0        \n",
       "3 3/11/2020 ALBERTA 7        14         0         0           0        \n",
       "4 3/12/2020 ALBERTA 5        19         0         0           0        \n",
       "5 3/13/2020 ALBERTA 4        23         0         0           0        \n",
       "6 3/14/2020 ALBERTA 6        29         0         0           0        \n",
       "  Hospitalizations ICU Tested ... Vaccinated Vaccinated.2 Vac.Distributed\n",
       "1 0                0    828   ... 0          0            0              \n",
       "2 0                0   1282   ... 0          0            0              \n",
       "3 0                0   2714   ... 0          0            0              \n",
       "4 0                0   4048   ... 0          0            0              \n",
       "5 7                2   5195   ... 0          0            0              \n",
       "6 7                2   6782   ... 0          0            0              \n",
       "  Total.variants Variant.B.1.1.7 Variant.B.1.351 Variant.P.1 Variant.Nigeria\n",
       "1 NA             NA              NA              NA          NA             \n",
       "2 NA             NA              NA              NA          NA             \n",
       "3 NA             NA              NA              NA          NA             \n",
       "4 NA             NA              NA              NA          NA             \n",
       "5 NA             NA              NA              NA          NA             \n",
       "6 NA             NA              NA              NA          NA             \n",
       "  Variant.unknown Variant.B.1.617\n",
       "1 NA              NA             \n",
       "2 NA              NA             \n",
       "3 NA              NA             \n",
       "4 NA              NA             \n",
       "5 NA              NA             \n",
       "6 NA              NA             "
      ]
     },
     "metadata": {},
     "output_type": "display_data"
    }
   ],
   "source": [
    "#look at Data\n",
    "\n",
    "head(westca)"
   ]
  },
  {
   "cell_type": "code",
   "execution_count": 7,
   "id": "13c50a36",
   "metadata": {},
   "outputs": [
    {
     "name": "stdout",
     "output_type": "stream",
     "text": [
      "Observations: 2,014\n",
      "Variables: 21\n",
      "$ Date             <fct> 3/8/2020, 3/9/2020, 3/11/2020, 3/12/2020, 3/13/202...\n",
      "$ Geo              <fct> ALBERTA, ALBERTA, ALBERTA, ALBERTA, ALBERTA, ALBER...\n",
      "$ newcases         <int> 1, 6, 7, 5, 4, 6, 10, 17, 18, 23, 49, 49, 31, 33, ...\n",
      "$ totalcases       <int> 1, 7, 14, 19, 23, 29, 39, 56, 74, 97, 146, 195, 22...\n",
      "$ newdeaths        <int> 0, 0, 0, 0, 0, 0, 0, 0, 0, 0, 1, 0, 0, 0, 0, 1, 0,...\n",
      "$ totaldeaths      <int> 0, 0, 0, 0, 0, 0, 0, 0, 0, 0, 1, 1, 1, 1, 1, 2, 2,...\n",
      "$ Recovered        <int> 0, 0, 0, 0, 0, 0, 0, 0, 0, 0, 0, 3, 3, 3, 3, 3, 3,...\n",
      "$ Hospitalizations <int> 0, 0, 0, 0, 7, 7, 7, 8, 10, 15, 17, 18, 21, 22, 24...\n",
      "$ ICU              <int> 0, 0, 0, 0, 2, 2, 2, 2, 3, 3, 8, 9, 10, 10, 10, 11...\n",
      "$ Tested           <int> 828, 1282, 2714, 4048, 5195, 6782, 8337, 10171, 11...\n",
      "$ Positivity       <int> 0, 0, 0, 0, 0, 0, 0, 0, 0, 0, 0, 0, 0, 0, 0, 0, 0,...\n",
      "$ Vaccinated       <int> 0, 0, 0, 0, 0, 0, 0, 0, 0, 0, 0, 0, 0, 0, 0, 0, 0,...\n",
      "$ Vaccinated.2     <int> 0, 0, 0, 0, 0, 0, 0, 0, 0, 0, 0, 0, 0, 0, 0, 0, 0,...\n",
      "$ Vac.Distributed  <int> 0, 0, 0, 0, 0, 0, 0, 0, 0, 0, 0, 0, 0, 0, 0, 0, 0,...\n",
      "$ Total.variants   <int> NA, NA, NA, NA, NA, NA, NA, NA, NA, NA, NA, NA, NA...\n",
      "$ Variant.B.1.1.7  <int> NA, NA, NA, NA, NA, NA, NA, NA, NA, NA, NA, NA, NA...\n",
      "$ Variant.B.1.351  <int> NA, NA, NA, NA, NA, NA, NA, NA, NA, NA, NA, NA, NA...\n",
      "$ Variant.P.1      <int> NA, NA, NA, NA, NA, NA, NA, NA, NA, NA, NA, NA, NA...\n",
      "$ Variant.Nigeria  <int> NA, NA, NA, NA, NA, NA, NA, NA, NA, NA, NA, NA, NA...\n",
      "$ Variant.unknown  <int> NA, NA, NA, NA, NA, NA, NA, NA, NA, NA, NA, NA, NA...\n",
      "$ Variant.B.1.617  <int> NA, NA, NA, NA, NA, NA, NA, NA, NA, NA, NA, NA, NA...\n"
     ]
    }
   ],
   "source": [
    "#check data type and informations\n",
    "\n",
    "glimpse(westca)"
   ]
  },
  {
   "cell_type": "code",
   "execution_count": 14,
   "id": "d9a921bd",
   "metadata": {},
   "outputs": [
    {
     "data": {
      "text/html": [
       "<table>\n",
       "<thead><tr><th scope=col>Date</th><th scope=col>Geo</th><th scope=col>newcases</th><th scope=col>totalcases</th><th scope=col>newdeaths</th><th scope=col>totaldeaths</th><th scope=col>Recovered</th><th scope=col>Hospitalizations</th><th scope=col>ICU</th><th scope=col>Tested</th><th scope=col>...</th><th scope=col>Vaccinated</th><th scope=col>Vaccinated.2</th><th scope=col>Vac.Distributed</th><th scope=col>Total.variants</th><th scope=col>Variant.B.1.1.7</th><th scope=col>Variant.B.1.351</th><th scope=col>Variant.P.1</th><th scope=col>Variant.Nigeria</th><th scope=col>Variant.unknown</th><th scope=col>Variant.B.1.617</th></tr></thead>\n",
       "<tbody>\n",
       "\t<tr><td>0   </td><td>0   </td><td>0   </td><td>0   </td><td>0   </td><td>0   </td><td>0   </td><td>0   </td><td>0   </td><td>0   </td><td>... </td><td>0   </td><td>0   </td><td>0   </td><td>1446</td><td>1446</td><td>1446</td><td>1446</td><td>1446</td><td>1546</td><td>1762</td></tr>\n",
       "</tbody>\n",
       "</table>\n"
      ],
      "text/latex": [
       "\\begin{tabular}{r|lllllllllllllllllllll}\n",
       " Date & Geo & newcases & totalcases & newdeaths & totaldeaths & Recovered & Hospitalizations & ICU & Tested & ... & Vaccinated & Vaccinated.2 & Vac.Distributed & Total.variants & Variant.B.1.1.7 & Variant.B.1.351 & Variant.P.1 & Variant.Nigeria & Variant.unknown & Variant.B.1.617\\\\\n",
       "\\hline\n",
       "\t 0    & 0    & 0    & 0    & 0    & 0    & 0    & 0    & 0    & 0    & ...  & 0    & 0    & 0    & 1446 & 1446 & 1446 & 1446 & 1446 & 1546 & 1762\\\\\n",
       "\\end{tabular}\n"
      ],
      "text/markdown": [
       "\n",
       "| Date | Geo | newcases | totalcases | newdeaths | totaldeaths | Recovered | Hospitalizations | ICU | Tested | ... | Vaccinated | Vaccinated.2 | Vac.Distributed | Total.variants | Variant.B.1.1.7 | Variant.B.1.351 | Variant.P.1 | Variant.Nigeria | Variant.unknown | Variant.B.1.617 |\n",
       "|---|---|---|---|---|---|---|---|---|---|---|---|---|---|---|---|---|---|---|---|---|\n",
       "| 0    | 0    | 0    | 0    | 0    | 0    | 0    | 0    | 0    | 0    | ...  | 0    | 0    | 0    | 1446 | 1446 | 1446 | 1446 | 1446 | 1546 | 1762 |\n",
       "\n"
      ],
      "text/plain": [
       "  Date Geo newcases totalcases newdeaths totaldeaths Recovered Hospitalizations\n",
       "1 0    0   0        0          0         0           0         0               \n",
       "  ICU Tested ... Vaccinated Vaccinated.2 Vac.Distributed Total.variants\n",
       "1 0   0      ... 0          0            0               1446          \n",
       "  Variant.B.1.1.7 Variant.B.1.351 Variant.P.1 Variant.Nigeria Variant.unknown\n",
       "1 1446            1446            1446        1446            1546           \n",
       "  Variant.B.1.617\n",
       "1 1762           "
      ]
     },
     "metadata": {},
     "output_type": "display_data"
    }
   ],
   "source": [
    "#check to see how many NA we have\n",
    "\n",
    "westca %>% summarise_all(funs(sum(is.na(.))))\n",
    "\n",
    "#colSums(is.na(westca))--summarise_all takes lot less space so I used it instead."
   ]
  },
  {
   "cell_type": "code",
   "execution_count": 15,
   "id": "a86b0a77",
   "metadata": {},
   "outputs": [],
   "source": [
    "#By identify all the NA are the 0 case in the variants cases columns, I will replace the “NA” with “0”\n",
    "\n",
    "westca[is.na(westca)]<-0"
   ]
  },
  {
   "cell_type": "code",
   "execution_count": 16,
   "id": "ad7aab90",
   "metadata": {},
   "outputs": [],
   "source": [
    "#check if we have and duplicate date in the dataset\n",
    "\n",
    "#duplicated(westca[,1:2])\n",
    "\n",
    "#Returned all FALSE so we are good no futher investigation needed\n",
    "#it takes too much space when i upload to github so i just make it as notes"
   ]
  },
  {
   "cell_type": "code",
   "execution_count": 11,
   "id": "7ea29f62",
   "metadata": {},
   "outputs": [
    {
     "data": {
      "text/html": [
       "<table>\n",
       "<thead><tr><th></th><th scope=col>newcases</th><th scope=col>totalcases</th><th scope=col>newdeaths</th><th scope=col>totaldeaths</th><th scope=col>Recovered</th><th scope=col>Hospitalizations</th><th scope=col>ICU</th><th scope=col>Tested</th></tr></thead>\n",
       "<tbody>\n",
       "\t<tr><th scope=row>newcases</th><td>1.0000000</td><td>0.4980922</td><td>0.4519074</td><td>0.4865366</td><td>0.4440333</td><td>0.7842441</td><td>0.7777338</td><td>0.5865920</td></tr>\n",
       "\t<tr><th scope=row>totalcases</th><td>0.4980922</td><td>1.0000000</td><td>0.2605098</td><td>0.9575574</td><td>0.9977198</td><td>0.6385718</td><td>0.7047338</td><td>0.9680926</td></tr>\n",
       "\t<tr><th scope=row>newdeaths</th><td>0.4519074</td><td>0.2605098</td><td>1.0000000</td><td>0.3050219</td><td>0.2299010</td><td>0.6065678</td><td>0.5263207</td><td>0.3152436</td></tr>\n",
       "\t<tr><th scope=row>totaldeaths</th><td>0.4865366</td><td>0.9575574</td><td>0.3050219</td><td>1.0000000</td><td>0.9543286</td><td>0.6590060</td><td>0.7117342</td><td>0.9190810</td></tr>\n",
       "\t<tr><th scope=row>Recovered</th><td>0.4440333</td><td>0.9977198</td><td>0.2299010</td><td>0.9543286</td><td>1.0000000</td><td>0.5932108</td><td>0.6653585</td><td>0.9585418</td></tr>\n",
       "\t<tr><th scope=row>Hospitalizations</th><td>0.7842441</td><td>0.6385718</td><td>0.6065678</td><td>0.6590060</td><td>0.5932108</td><td>1.0000000</td><td>0.9314299</td><td>0.6735064</td></tr>\n",
       "\t<tr><th scope=row>ICU</th><td>0.7777338</td><td>0.7047338</td><td>0.5263207</td><td>0.7117342</td><td>0.6653585</td><td>0.9314299</td><td>1.0000000</td><td>0.7123502</td></tr>\n",
       "\t<tr><th scope=row>Tested</th><td>0.5865920</td><td>0.9680926</td><td>0.3152436</td><td>0.9190810</td><td>0.9585418</td><td>0.6735064</td><td>0.7123502</td><td>1.0000000</td></tr>\n",
       "</tbody>\n",
       "</table>\n"
      ],
      "text/latex": [
       "\\begin{tabular}{r|llllllll}\n",
       "  & newcases & totalcases & newdeaths & totaldeaths & Recovered & Hospitalizations & ICU & Tested\\\\\n",
       "\\hline\n",
       "\tnewcases & 1.0000000 & 0.4980922 & 0.4519074 & 0.4865366 & 0.4440333 & 0.7842441 & 0.7777338 & 0.5865920\\\\\n",
       "\ttotalcases & 0.4980922 & 1.0000000 & 0.2605098 & 0.9575574 & 0.9977198 & 0.6385718 & 0.7047338 & 0.9680926\\\\\n",
       "\tnewdeaths & 0.4519074 & 0.2605098 & 1.0000000 & 0.3050219 & 0.2299010 & 0.6065678 & 0.5263207 & 0.3152436\\\\\n",
       "\ttotaldeaths & 0.4865366 & 0.9575574 & 0.3050219 & 1.0000000 & 0.9543286 & 0.6590060 & 0.7117342 & 0.9190810\\\\\n",
       "\tRecovered & 0.4440333 & 0.9977198 & 0.2299010 & 0.9543286 & 1.0000000 & 0.5932108 & 0.6653585 & 0.9585418\\\\\n",
       "\tHospitalizations & 0.7842441 & 0.6385718 & 0.6065678 & 0.6590060 & 0.5932108 & 1.0000000 & 0.9314299 & 0.6735064\\\\\n",
       "\tICU & 0.7777338 & 0.7047338 & 0.5263207 & 0.7117342 & 0.6653585 & 0.9314299 & 1.0000000 & 0.7123502\\\\\n",
       "\tTested & 0.5865920 & 0.9680926 & 0.3152436 & 0.9190810 & 0.9585418 & 0.6735064 & 0.7123502 & 1.0000000\\\\\n",
       "\\end{tabular}\n"
      ],
      "text/markdown": [
       "\n",
       "| <!--/--> | newcases | totalcases | newdeaths | totaldeaths | Recovered | Hospitalizations | ICU | Tested |\n",
       "|---|---|---|---|---|---|---|---|---|\n",
       "| newcases | 1.0000000 | 0.4980922 | 0.4519074 | 0.4865366 | 0.4440333 | 0.7842441 | 0.7777338 | 0.5865920 |\n",
       "| totalcases | 0.4980922 | 1.0000000 | 0.2605098 | 0.9575574 | 0.9977198 | 0.6385718 | 0.7047338 | 0.9680926 |\n",
       "| newdeaths | 0.4519074 | 0.2605098 | 1.0000000 | 0.3050219 | 0.2299010 | 0.6065678 | 0.5263207 | 0.3152436 |\n",
       "| totaldeaths | 0.4865366 | 0.9575574 | 0.3050219 | 1.0000000 | 0.9543286 | 0.6590060 | 0.7117342 | 0.9190810 |\n",
       "| Recovered | 0.4440333 | 0.9977198 | 0.2299010 | 0.9543286 | 1.0000000 | 0.5932108 | 0.6653585 | 0.9585418 |\n",
       "| Hospitalizations | 0.7842441 | 0.6385718 | 0.6065678 | 0.6590060 | 0.5932108 | 1.0000000 | 0.9314299 | 0.6735064 |\n",
       "| ICU | 0.7777338 | 0.7047338 | 0.5263207 | 0.7117342 | 0.6653585 | 0.9314299 | 1.0000000 | 0.7123502 |\n",
       "| Tested | 0.5865920 | 0.9680926 | 0.3152436 | 0.9190810 | 0.9585418 | 0.6735064 | 0.7123502 | 1.0000000 |\n",
       "\n"
      ],
      "text/plain": [
       "                 newcases  totalcases newdeaths totaldeaths Recovered\n",
       "newcases         1.0000000 0.4980922  0.4519074 0.4865366   0.4440333\n",
       "totalcases       0.4980922 1.0000000  0.2605098 0.9575574   0.9977198\n",
       "newdeaths        0.4519074 0.2605098  1.0000000 0.3050219   0.2299010\n",
       "totaldeaths      0.4865366 0.9575574  0.3050219 1.0000000   0.9543286\n",
       "Recovered        0.4440333 0.9977198  0.2299010 0.9543286   1.0000000\n",
       "Hospitalizations 0.7842441 0.6385718  0.6065678 0.6590060   0.5932108\n",
       "ICU              0.7777338 0.7047338  0.5263207 0.7117342   0.6653585\n",
       "Tested           0.5865920 0.9680926  0.3152436 0.9190810   0.9585418\n",
       "                 Hospitalizations ICU       Tested   \n",
       "newcases         0.7842441        0.7777338 0.5865920\n",
       "totalcases       0.6385718        0.7047338 0.9680926\n",
       "newdeaths        0.6065678        0.5263207 0.3152436\n",
       "totaldeaths      0.6590060        0.7117342 0.9190810\n",
       "Recovered        0.5932108        0.6653585 0.9585418\n",
       "Hospitalizations 1.0000000        0.9314299 0.6735064\n",
       "ICU              0.9314299        1.0000000 0.7123502\n",
       "Tested           0.6735064        0.7123502 1.0000000"
      ]
     },
     "metadata": {},
     "output_type": "display_data"
    }
   ],
   "source": [
    "#find the correlation between new cases new deaths and vaccine\n",
    "\n",
    "cor(westca[3:10],method=\"pearson\")"
   ]
  },
  {
   "cell_type": "code",
   "execution_count": 12,
   "id": "2834ced4",
   "metadata": {},
   "outputs": [
    {
     "data": {
      "image/png": "[encoded data removed]",
      "text/plain": [
       "plot without title"
      ]
     },
     "metadata": {},
     "output_type": "display_data"
    }
   ],
   "source": [
    "##heatmap correlation for the selected columns\n",
    "\n",
    "ggcorrplot(cor(westca[3:9],method=\"pearson\"),method=\"circle\")"
   ]
  },
  {
   "cell_type": "code",
   "execution_count": 13,
   "id": "f11019ab",
   "metadata": {},
   "outputs": [
    {
     "data": {
      "image/png": "[encoded data removed]",
      "text/plain": [
       "plot without title"
      ]
     },
     "metadata": {},
     "output_type": "display_data"
    }
   ],
   "source": [
    "# plot with New cases vs Hospitalizations\n",
    "ggplot(data=westca)+\n",
    "geom_point(mapping = aes(x = Hospitalizations, y = newcases))+\n",
    "geom_smooth(method='lm',mapping = aes(x = Hospitalizations, y = newcases))+\n",
    "labs(title=\"Correlation Between New Cases and Hospitalization \", x= 'Hospitalization', y= 'New Cases',\n",
    "       caption = \"Data Collected by Open Data Canada\")\n",
    "\n",
    "# high correlation between new cases and hospitalizations\n",
    "# I am right"
   ]
  },
  {
   "cell_type": "code",
   "execution_count": null,
   "id": "13abb882",
   "metadata": {},
   "outputs": [],
   "source": []
  }
 ],
 "metadata": {
  "kernelspec": {
   "display_name": "R",
   "language": "R",
   "name": "ir"
  },
  "language_info": {
   "codemirror_mode": "r",
   "file_extension": ".r",
   "mimetype": "text/x-r-source",
   "name": "R",
   "pygments_lexer": "r",
   "version": "3.6.1"
  }
 },
 "nbformat": 4,
 "nbformat_minor": 5
}
